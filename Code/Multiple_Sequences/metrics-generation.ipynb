{
 "cells": [
  {
   "cell_type": "markdown",
   "metadata": {},
   "source": [
    "# Calculate Metrics and Generate New Sequences"
   ]
  },
  {
   "cell_type": "code",
   "execution_count": 50,
   "metadata": {},
   "outputs": [],
   "source": [
    "import numpy as np\n",
    "import pandas as pd\n",
    "import csv\n",
    "from numpy import linspace,exp\n",
    "from numpy.random import randn\n",
    "import matplotlib.pyplot as plt\n",
    "from scipy.interpolate import UnivariateSpline\n",
    "import seaborn as sns\n",
    "\n",
    "import scipy \n",
    "import editdistance\n",
    "import sklearn.metrics\n",
    "import statsmodels.api as sm\n",
    "\n",
    "%matplotlib inline \n",
    "np.random.seed(17)"
   ]
  },
  {
   "cell_type": "markdown",
   "metadata": {},
   "source": [
    "## Pre-Process Multiple Sequences"
   ]
  },
  {
   "cell_type": "code",
   "execution_count": 2,
   "metadata": {},
   "outputs": [],
   "source": [
    "## Function to pre-process input CSV of original song into form that can be used for modeling and metrics\n",
    "## Assumes original piece's MIDI file has been converted to a CSV using http://www.fourmilab.ch/webtools/midicsv/#midicsv.5\n",
    "## input_filename = name of original csv\n",
    "## output_filename = name of new csv to save generated piece to\n",
    "## Outputs:\n",
    "##         quarter_note = number of time steps corresponding to 1 quarter note\n",
    "##         num = numerator in key signature\n",
    "##         denom = denominator in key signature\n",
    "##         key = key signature of piece, integer between -7 and 7 where 0 is C Major\n",
    "##         measures = number of measures in input piece\n",
    "##         time = vector of time stamps at which notes occurr\n",
    "##         notes = vector of note pitches (integers 0-127)\n",
    "##         velocity = \"volume\" of each note pitch, 0 = note off, length of time is the same as length of notes and velocity\n",
    "##         song = pandas dataframe to use for output generated pieces, retains formatting expected by MIDI-CSV\n",
    "##         song.index = index of original song dataframe\n",
    "\n",
    "## See http://www.fourmilab.ch/webtools/midicsv/#midicsv.5 for a discussion of MIDI and CSV formats\n",
    "\n",
    "class pre_process(object):\n",
    "    def __init__(self, input_filename, min_note):\n",
    "        self.input_filename = input_filename\n",
    "        self.min_note = min_note\n",
    "     \n",
    "   \n",
    "    def read_process(self):\n",
    "        with open(self.input_filename,encoding = \"ISO-8859-1\") as fd:\n",
    "            reader=csv.reader(fd)\n",
    "            rows= [row for idx, row in enumerate(reader)]\n",
    "        song = pd.DataFrame(rows)\n",
    "        r,c = np.where(song == ' Header')\n",
    "        quarter_note = song.iloc[r,5].values.astype(int)[0]\n",
    "        r, c = np.where(song == ' Time_signature')\n",
    "        num = song.iloc[r, 3].values.astype(int)[0]\n",
    "        denom = song.iloc[r, 4].values.astype(int)[0]**2\n",
    "        try:\n",
    "            r, c = np.where(song == ' Key_signature')\n",
    "            key = song.iloc[r,3].values.astype(int)[0]\n",
    "        except:\n",
    "            key = None\n",
    "       \n",
    "        song_model = song.loc[song.iloc[:,0] == np.max(song.iloc[:,0])]\n",
    "        song_model = song_model[song_model.iloc[:, 2].isin([' Note_on_c', ' Note_off_c'])]\n",
    "        time = np.array(song_model.iloc[:,1]).astype(int)\n",
    "        notes = np.array(song_model.iloc[:,4]).astype(int)\n",
    "        velocity = np.array(song_model.iloc[:,5]).astype(int)\n",
    "        measures = np.round(np.max(time)/quarter_note)/num\n",
    "        min_note = quarter_note\n",
    "        actual = np.arange(0, min_note*measures*num, min_note).astype(int)\n",
    "        time2 = np.array([find_nearest(actual, time[i]) for i in range(len(time))]).astype(int)\n",
    "        return(quarter_note, num, denom, key, measures, time, time2, notes, velocity, song, song_model.index)"
   ]
  },
  {
   "cell_type": "code",
   "execution_count": 8,
   "metadata": {},
   "outputs": [],
   "source": [
    "## Helper functions for working with note pitch representation\n",
    "\n",
    "## Convert from pitch representation (integers 0-127) to integers (0-max)\n",
    "## x is the input vector of notes and code is a vector of the unique pitches in x\n",
    "def encode(x, code):\n",
    "    output = np.array([int(np.where(code == x[i])[0]) for i in range(0, len(x))])\n",
    "    return output\n",
    "\n",
    "\n",
    "## Reverses the function encode\n",
    "## x is the vector of pitches to decode and code is a vector of the unique pitches in x before it was encoded\n",
    "def decode(x, code):\n",
    "    output = np.zeros(len(x))\n",
    "    for i in range(0, len(x)):\n",
    "        output[i] = code[x[i]]\n",
    "    return output\n",
    "\n",
    "## Function to convert the values in array to the nearest values in the array value\n",
    "## Used to convert continues TVAR generated pitches to closest integer values for MIDI representation\n",
    "def find_nearest(array,value):\n",
    "    idx = (np.abs(array-value)).argmin()\n",
    "    return array[idx]\n",
    "\n",
    "# Key = 0 is C major, transpose all pieces to C major\n",
    "# Key ranges from -7 (each flat below C) to + 7 (each sharp above C)\n",
    "\n",
    "def transpose(key, notes):\n",
    "    notes_transpose = -key + notes # get key to 0\n",
    "    return(notes_transpose)"
   ]
  },
  {
   "cell_type": "code",
   "execution_count": 34,
   "metadata": {},
   "outputs": [],
   "source": [
    "def multiple_process(file_list, min_note_list):\n",
    "    ## Read in each piece and store information\n",
    "    quarter_list = list()\n",
    "    key_list = list()\n",
    "    time_list = list()\n",
    "    time_metrics = list()\n",
    "    note_list = list()\n",
    "    transposed = list()\n",
    "    velocity_list = list()\n",
    "    encoded_notes = list()\n",
    "    song_list = list()\n",
    "    ind_list = list()\n",
    "    num_list = list()\n",
    "    measure_list = list()\n",
    "\n",
    "    \n",
    "#     calc_metrics(time_metrics, notes, notes, velocity, measures, min_note, num)\n",
    "\n",
    "    for i in range(len(file_list)):\n",
    "        quarter_note, num, denom, key, measures, time, time2,\\\n",
    "                notes, velocity, song, ind = pre_process(file_list[i], min_note_list[i]).read_process()\n",
    "        quarter_list.append(quarter_note)\n",
    "        key_list.append(key)\n",
    "        time_list.append(time)\n",
    "        time_metrics.append(time2)\n",
    "        note_list.append(notes)\n",
    "        # Transpose\n",
    "        tNotes = transpose(key, notes)\n",
    "        transposed.append(tNotes)\n",
    "        velocity_list.append(velocity)\n",
    "        print(file_list[i])\n",
    "        song_list.append(song)\n",
    "        ind_list.append(ind)\n",
    "        num_list.append(num)\n",
    "        measure_list.append(measures)\n",
    "    \n",
    "    \n",
    "    \n",
    "    \n",
    "    ## All sequences need to be encoded to same reference\n",
    "    possibleNotes = np.unique(np.concatenate([np.unique(transposed[i]) for i in range(len(file_list))]).ravel())\n",
    "    encoded_notes = [encode(transposed[i], possibleNotes) for i in range(len(file_list))]\n",
    "    \n",
    "    \n",
    "    T = np.max([len(n) for n in transposed])\n",
    "    N = len([len(n) for n in transposed])\n",
    "    ## ragged array of encoded pieces\n",
    "    mat_pieces = np.zeros((N, T), dtype = int)\n",
    "\n",
    "    for i in range(N):\n",
    "        curr = encoded_notes[i]\n",
    "        mat_pieces[i, :len(curr)] = curr\n",
    "        \n",
    "    \n",
    "        \n",
    "    return(mat_pieces, quarter_list, key_list, time_list, note_list, transposed, velocity_list, encoded_notes,\n",
    "          possibleNotes, time_metrics, song_list, ind_list, num_list, measure_list)\n"
   ]
  },
  {
   "cell_type": "code",
   "execution_count": 10,
   "metadata": {},
   "outputs": [],
   "source": [
    "file_list = ['OriginalCSV/beethoven-symphony9-4-ode-to-joy-piano-solo.csv',\n",
    "             'OriginalCSV/carol-of-the-bells.csv',\n",
    "             'OriginalCSV/deutschlandlied.csv',\n",
    "             'OriginalCSV/god-rest-you-merry-gentlemen.csv',\n",
    "             'OriginalCSV/greensleeves.csv',\n",
    "             'OriginalCSV/hark-the-herald-angels-sing.csv',\n",
    "             'OriginalCSV/Jupiter.csv', \n",
    "             'OriginalCSV/in-the-bleak-midwinter.csv', \n",
    "             'OriginalCSV/muss_1_format0.csv', \n",
    "             'OriginalCSV/old-100th.csv', \n",
    "             'OriginalCSV/once-in-royal.csv', \n",
    "             'OriginalCSV/pachelbel.csv', \n",
    "             'OriginalCSV/shall-we-gather-at-the-river.csv', \n",
    "             'OriginalCSV/Songwithoutwords06.csv', \n",
    "             'OriginalCSV/swing-low-sweet-chariot.csv', \n",
    "             'OriginalCSV/the-blue-danube-piano.csv', \n",
    "             'OriginalCSV/Third-Mode-Melody.csv', \n",
    "             'OriginalCSV/twinkle-twinkle-little-star.csv',\n",
    "             'OriginalCSV/we-three-kings-keyboard.csv',\n",
    "             'OriginalCSV/when-johnny-comes-marching-home.csv']\n",
    "min_note_list = [128, 128, 128, 128, 64, 128, 64, 128, 240, 256, 128, 64, 64, 64, 128, 256, 256, 256, 64, 128]"
   ]
  },
  {
   "cell_type": "code",
   "execution_count": 11,
   "metadata": {},
   "outputs": [
    {
     "data": {
      "text/plain": [
       "20"
      ]
     },
     "execution_count": 11,
     "metadata": {},
     "output_type": "execute_result"
    }
   ],
   "source": [
    "len(min_note_list)"
   ]
  },
  {
   "cell_type": "code",
   "execution_count": 15,
   "metadata": {},
   "outputs": [
    {
     "name": "stdout",
     "output_type": "stream",
     "text": [
      "OriginalCSV/beethoven-symphony9-4-ode-to-joy-piano-solo.csv\n",
      "OriginalCSV/carol-of-the-bells.csv\n",
      "OriginalCSV/deutschlandlied.csv\n",
      "OriginalCSV/god-rest-you-merry-gentlemen.csv\n",
      "OriginalCSV/greensleeves.csv\n",
      "OriginalCSV/hark-the-herald-angels-sing.csv\n",
      "OriginalCSV/Jupiter.csv\n",
      "OriginalCSV/in-the-bleak-midwinter.csv\n",
      "OriginalCSV/muss_1_format0.csv\n",
      "OriginalCSV/old-100th.csv\n",
      "OriginalCSV/once-in-royal.csv\n",
      "OriginalCSV/pachelbel.csv\n",
      "OriginalCSV/shall-we-gather-at-the-river.csv\n",
      "OriginalCSV/Songwithoutwords06.csv\n",
      "OriginalCSV/swing-low-sweet-chariot.csv\n",
      "OriginalCSV/the-blue-danube-piano.csv\n",
      "OriginalCSV/Third-Mode-Melody.csv\n",
      "OriginalCSV/twinkle-twinkle-little-star.csv\n",
      "OriginalCSV/we-three-kings-keyboard.csv\n",
      "OriginalCSV/when-johnny-comes-marching-home.csv\n"
     ]
    }
   ],
   "source": [
    "mat_pieces, quarter_list, key_list, time_list, note_list, transposed, velocity_list, encoded_notes, \\\n",
    "          possibleNotes, metrics_time, song_list, ind_list = multiple_process(file_list, min_note_list)"
   ]
  },
  {
   "cell_type": "code",
   "execution_count": 13,
   "metadata": {},
   "outputs": [
    {
     "data": {
      "text/plain": [
       "array([31, 32, 33, 35, 36, 37, 38, 39, 40, 41, 42, 43, 44, 45, 46, 47, 48,\n",
       "       49, 50, 51, 52, 53, 54, 55, 56, 57, 58, 59, 60, 61, 62, 63, 64, 65,\n",
       "       66, 67, 68, 69, 70, 71, 72, 73, 74, 75, 76, 77, 78, 79, 80, 81, 82,\n",
       "       83, 84, 86])"
      ]
     },
     "execution_count": 13,
     "metadata": {},
     "output_type": "execute_result"
    }
   ],
   "source": [
    "possibleNotes"
   ]
  },
  {
   "cell_type": "markdown",
   "metadata": {},
   "source": [
    "Now have information about all the original pieces, which can be used in the post-processing when we generate new pieces."
   ]
  },
  {
   "cell_type": "markdown",
   "metadata": {},
   "source": [
    "## Generate New Pieces"
   ]
  },
  {
   "cell_type": "code",
   "execution_count": 60,
   "metadata": {},
   "outputs": [],
   "source": [
    "## T is length of generated sequence\n",
    "## pi is the initial distribution\n",
    "## b0 is the initial emission distribution\n",
    "## b is the emission distribution\n",
    "## A is the transition matrix\n",
    "def generate_dilated(n,pi,b0,b,A): \n",
    "    m = A.shape[0]\n",
    "    k = b.shape[2]\n",
    "    xstates=range(0,k)\n",
    "    zstates=range(0,m)\n",
    "    z=np.zeros(n,dtype=int)\n",
    "    x=np.zeros(n,dtype=int)\n",
    "    z[0]=np.random.choice(zstates,p=pi)\n",
    "    x[0]=np.random.choice(xstates,p=b0[z[0],:])\n",
    "    for j in range(1,n):\n",
    "        z[j]=np.random.choice(zstates,p=A[z[j-1],:])\n",
    "    for j in range(1,n):\n",
    "        x[j]=np.random.choice(xstates,p=b[z[j-1],z[j],:])\n",
    "#     output=decode(o,code,1)\n",
    "    return (x,z)"
   ]
  },
  {
   "cell_type": "code",
   "execution_count": null,
   "metadata": {},
   "outputs": [],
   "source": []
  },
  {
   "cell_type": "code",
   "execution_count": 26,
   "metadata": {},
   "outputs": [],
   "source": [
    "A = np.load('5hiddenstates-parameters/A.npy')\n",
    "b = np.load('5hiddenstates-parameters/b.npy')\n",
    "b0 = np.load('5hiddenstates-parameters/b0.npy')\n",
    "pi = np.load('5hiddenstates-parameters/pi.npy')"
   ]
  },
  {
   "cell_type": "code",
   "execution_count": 29,
   "metadata": {},
   "outputs": [],
   "source": [
    "test = generate(100, pi, b0, b, A)"
   ]
  },
  {
   "cell_type": "code",
   "execution_count": 31,
   "metadata": {},
   "outputs": [
    {
     "data": {
      "text/plain": [
       "array([59., 68., 53., 52., 44., 62., 53., 65., 73., 58., 68., 75., 73.,\n",
       "       58., 62., 59., 63., 47., 66., 60., 48., 44., 57., 67., 68., 60.,\n",
       "       40., 69., 67., 41., 56., 46., 73., 70., 57., 68., 80., 60., 58.,\n",
       "       57., 48., 69., 62., 58., 72., 46., 70., 50., 59., 62., 53., 53.,\n",
       "       60., 65., 75., 78., 53., 69., 61., 64., 36., 48., 46., 53., 51.,\n",
       "       57., 72., 57., 65., 56., 60., 61., 58., 72., 65., 53., 62., 61.,\n",
       "       58., 50., 77., 60., 53., 60., 65., 69., 71., 53., 63., 73., 48.,\n",
       "       60., 69., 67., 65., 74., 58., 58., 54., 60.])"
      ]
     },
     "execution_count": 31,
     "metadata": {},
     "output_type": "execute_result"
    }
   ],
   "source": [
    "decode(test[0], possibleNotes)"
   ]
  },
  {
   "cell_type": "code",
   "execution_count": 20,
   "metadata": {},
   "outputs": [
    {
     "data": {
      "text/plain": [
       "54"
      ]
     },
     "execution_count": 20,
     "metadata": {},
     "output_type": "execute_result"
    }
   ],
   "source": [
    "len(possibleNotes)"
   ]
  },
  {
   "cell_type": "markdown",
   "metadata": {},
   "source": [
    "## Metrics Code - One Sequence at a Time"
   ]
  },
  {
   "cell_type": "code",
   "execution_count": 63,
   "metadata": {},
   "outputs": [],
   "source": [
    "\n",
    "## Function to create a matrix of notes and times representing the input piece as a matrix\n",
    "## time is the time steps (integers) at which a note occurs\n",
    "## notes are the note pitches (integers 0-127) where each note is \"turned on\" and \"turned off\"\n",
    "## velocity is the note velocity (i.e. volume) at each time step\n",
    "## measures is the number measures in the original piece\n",
    "## min_note is the length of the shortest note in the original piece, using same scale as time array above\n",
    "## num is the number of quarter notes in a measure (i.e. represents the numerator of time signature of the input piece)\n",
    "## met_mat output is a matrix where columns correspond to the time stamp of notes, one column for each min_note\n",
    "##    duration for the entire piece and the rows are the note pitches, values in the matrix are 1 for the duration\n",
    "##    of a note when it is played and 0 when it is not played\n",
    "def create_matrix(time, notes, velocity, measures, min_note, num):\n",
    "    met_mat = pd.DataFrame(np.zeros(shape = (len(np.unique(notes)), int(measures)*num), dtype = int))\n",
    "    met_mat.index = np.unique(notes)[::-1]\n",
    "    met_mat.columns = np.arange(0, min_note*num*measures, min_note)[:int(measures)*num]\n",
    "    max_time = met_mat.columns[-1]\n",
    "    for i in np.unique(notes):\n",
    "        on = time[np.intersect1d(np.where(notes == i), np.where(velocity > 0) )]\n",
    "        off = time[np.intersect1d(np.where(notes == i), np.where(velocity == 0) )]\n",
    "        if len(off) % 2 !=0 or len(on) %2 !=0:\n",
    "            off = np.append(off, max_time)\n",
    "        for j in range(len(on)):\n",
    "            met_mat.loc[i, on[j]:off[j]] = 1\n",
    "    return(met_mat)\n",
    "\n",
    "## Function to calculate the musical metrics of generated pieces\n",
    "## met_mat is the output from create_matrix()\n",
    "## harmonic ints is a vector of length 12 corresponding to the counts of each type of harmonic interval in the piece considered\n",
    "## melodic ints is a vector of length 12 corresponding to the counts of each type of melodic interval in the piece considered\n",
    "## percentage is a vector of length 6 containing the percentage of perfect harmonic intervals, the percentage of imperfect \n",
    "##           consonant harmonic intervals, the percentage of dissonant harmonic intervals, the percentage of perfect melodic\n",
    "##           intervals, the percentage of imperfect consonant melodic intervals and the percentage of dissonant melodic intervals\n",
    "def musical_metrics(met_mat):\n",
    "    perfect = np.array([0,5,7])\n",
    "    imperfect = np.array([3,4,8,9])\n",
    "    dissonant = np.array([1,2,6,10,11])\n",
    "    major_scale = np.array([2,2,1,2,2,2,1])\n",
    "    harmonic_ints = np.zeros(12)\n",
    "    c = 0\n",
    "    max_notes = np.max(np.sum(met_mat, axis = 0))\n",
    "    melodic = np.zeros(shape = (max_notes, len(met_mat.columns)))\n",
    "    for col in met_mat.columns:\n",
    "        chord = np.array(met_mat.index[np.where(met_mat[col] == 1)[0]])[::-1]\n",
    "        if len(chord) > 0:\n",
    "            intervals = np.diff(chord)\n",
    "            intervals[intervals >= 12] = intervals[intervals >= 12] % 12\n",
    "            harmonic_ints[intervals.astype(int)] +=1\n",
    "            melodic[:len(chord), c] = chord\n",
    "            c+= 1\n",
    "    melodic_ints = list()\n",
    "    for t in range(melodic.shape[1] - 1):\n",
    "        m1 = melodic[melodic[:,t] > 0, t]\n",
    "        m2 = melodic[melodic[:,t+1] > 0, t+1]\n",
    "        melodic_ints.append(np.unique([abs(i-j) %12 for i in m1 for j in m2]))\n",
    "\n",
    "    u = np.unique(np.hstack(melodic_ints), return_counts=True)\n",
    "    m_ints = np.zeros(12)\n",
    "    m_ints[u[0].astype(int)] = u[1].astype(int)\n",
    "\n",
    "    h_total = np.sum(harmonic_ints)\n",
    "    m_total = np.sum(m_ints)\n",
    "\n",
    "    h_per = np.sum(harmonic_ints[perfect])/h_total\n",
    "    h_imp = np.sum(harmonic_ints[imperfect])/h_total\n",
    "    h_dis = np.sum(harmonic_ints[dissonant])/h_total\n",
    "\n",
    "    m_per = np.sum(m_ints[perfect])/m_total\n",
    "    m_imp = np.sum(m_ints[imperfect])/m_total\n",
    "    m_dis = np.sum(m_ints[dissonant])/m_total\n",
    "\n",
    "    percentage = np.array([h_per, h_imp, h_dis, m_per, m_imp, m_dis])\n",
    "\n",
    "    return(harmonic_ints, m_ints, percentage)\n",
    "\n",
    "## Calculate the empirical entropy of the input data and output as a vector in entropy\n",
    "def ent(data):\n",
    "    p_data= np.unique(data, return_counts = True)[1]/len(data) # calculates the probabilities\n",
    "    entropy=scipy.stats.entropy(p_data)  # input probabilities to get the entropy \n",
    "    return entropy\n",
    "\n",
    "\n",
    "## Function to compare an original piece to a generated piece and calculate metrics\n",
    "## old_notes is a vector of the original piece's note pitches\n",
    "## new_notes is a vector of the generated piece's note pitches\n",
    "## Returns the empirical entropy, mutual information and edit distance between the original piece and the new, generated piece\n",
    "##        also returns the count of unique notes in the generated piece, normalized by the total number of notes\n",
    "def originality_metrics_comparison(old_notes, new_notes):\n",
    "    # Calculate entropy\n",
    "    entropy = ent(new_notes)\n",
    "\n",
    "    # Calculate edit distance\n",
    "    edit_dist = editdistance.eval(old_notes, new_notes)/len(old_notes)\n",
    "\n",
    "    # Calculate mutual info\n",
    "    mutual_info = sklearn.metrics.mutual_info_score(old_notes, new_notes)\n",
    "\n",
    "    k = len(np.unique(old_notes))\n",
    "    possibleNotes = np.unique(old_notes)    \n",
    "    # Calculate note counts\n",
    "    unique_new_notes, note_counts = np.unique(new_notes, return_counts = True)\n",
    "\n",
    "    if len(unique_new_notes) != k:\n",
    "        add_notes = list(set(possibleNotes) - set(unique_new_notes))\n",
    "        for i in add_notes:\n",
    "            if np.where(possibleNotes == i)[0] > len(note_counts):\n",
    "                note_counts = np.append(note_counts, np.where(possibleNotes == i)[0], 0)\n",
    "            else:\n",
    "                note_counts = np.insert(note_counts, np.where(possibleNotes == i)[0], 0)\n",
    "    note_counts = note_counts/len(old_notes)\n",
    "    return(entropy, mutual_info, edit_dist, note_counts)\n",
    "\n",
    "\n",
    "## Function to calculate the ACF and PACF out to lag 40\n",
    "## new_ntoes is the input vector of note pitches\n",
    "## note_acf is a vector of length 41 of the ACF values and note_pacf is a vector of length 41 of the PACF values\n",
    "def time_metrics(new_notes):   \n",
    "    #Calculate ACF/PACF out to lag 40\n",
    "    note_acf = sm.tsa.stattools.acf(new_notes, fft = False)\n",
    "    try:\n",
    "        note_pacf = sm.tsa.stattools.pacf(new_notes)\n",
    "    except np.linalg.linalg.LinAlgError as err:\n",
    "        note_pacf = sm.tsa.stattools.pacf(new_notes)\n",
    "\n",
    "    return(note_acf, note_pacf)\n",
    "\n",
    "\n",
    "## Function to calculate all metrics\n",
    "## time is the time steps (integers) at which a note occurs\n",
    "## notes are the note pitches (integers 0-127) where each note is \"turned on\" and \"turned off\"\n",
    "## velocity is the note velocity (i.e. volume) at each time step\n",
    "## measures is the number measures in the original piece\n",
    "## min_note is the length of the shortest note in the original piece, using same scale as time array above\n",
    "## num is the number of quarter notes in a measure (i.e. represents the numerator of time signature of the input piece)\n",
    "## output is a vector of the calculated metrics:\n",
    "##        entropy is the empirical entropy of new_notes\n",
    "##        mutual_info is the mutual information between old_notes and new_notes\n",
    "##        edit_dist is the edit distance between old_notes and new_notes\n",
    "##        harmonic_ints is a vector of length 12 of the count of harmonic intervals of each type in new_notes\n",
    "##        melodic_ints is a vector of length 12 of the count of melodic intervals of each type in new_notes\n",
    "##        percentage is a vector of length 6 containing the percentage of perfect harmonic intervals, the percentage of imperfect \n",
    "##           consonant harmonic intervals, the percentage of dissonant harmonic intervals, the percentage of perfect melodic\n",
    "##           intervals, the percentage of imperfect consonant melodic intervals and the percentage of dissonant melodic intervals      \n",
    "##       note_counts is a vector of length equal to the number of unique pitches in old_notes with a normalized count of pitches\n",
    "##           in new_notes\n",
    "##       note_acf is a vector of length 41 with the acf of new_notes\n",
    "##       note_pacf is a vector of length 41 with the pacf of new_notes\n",
    "## Note: time is the same for old_notes and new_notes, as this is not changed between the original and generated pieces\n",
    "##  (likewise, measures, min_note and num are the same for old_notes and new_notes)\n",
    "def calc_metrics(time, old_notes, new_notes, velocity, measures, min_note, num):\n",
    "    met_mat = create_matrix(time, new_notes, velocity, measures, min_note, num)\n",
    "    harmonic_ints, m_ints, percentage = musical_metrics(met_mat)\n",
    "    entropy, mutual_info, edit_dist, note_counts = originality_metrics_comparison(old_notes, new_notes)\n",
    "    note_acf, note_pacf = time_metrics(new_notes)\n",
    "#     return(np.hstack((np.array([entropy, mutual_info, edit_dist]), \n",
    "#            harmonic_ints, m_ints, percentage, note_counts, note_acf, note_pacf)))\n",
    "\n",
    "    ## Drop Note counts since different pieces\n",
    "    return(np.hstack((np.array([entropy, mutual_info, edit_dist]), \n",
    "               harmonic_ints, m_ints, percentage, note_acf, note_pacf)))\n",
    "\n",
    "## newNotes = vector of note pitches of new, generated piece\n",
    "## velocity = velocity of original piece\n",
    "## newVelocities = velocities for newNotes, with 0s appropriately filled in and spline values for other non-0 values\n",
    "\n",
    "def find_vel(newNotes, velocity):\n",
    "    # Use splines to interpolate the velocities\n",
    "    newVelocities = np.zeros(len(newNotes))\n",
    "    y = velocity[np.nonzero(velocity)]\n",
    "    indicies = []\n",
    "    for i in np.unique(newNotes):\n",
    "        indicies.append(np.where(newNotes == i)[0][::2])  ## set every other pitch occurrence to 0 (turn off)\n",
    "\n",
    "    unlist = [item for sublist in indicies for item in sublist]\n",
    "    unlist.sort()\n",
    "    X = np.array(range(0,len(y)))\n",
    "    s = UnivariateSpline(X, y, s=300) #750\n",
    "    xs = np.linspace(0, len(y), len(unlist), endpoint = True)\n",
    "    ys = s(xs)    \n",
    "    newVelocities[np.array(unlist)] = np.round(ys).astype(int)\n",
    "    #Fix entries that are too small or too large due to spline overfitting\n",
    "    newVelocities[np.where(newVelocities < 0)[0]] = y[-1]\n",
    "    newVelocities = newVelocities.astype(int)    \n",
    "\n",
    "    return(newVelocities)"
   ]
  },
  {
   "cell_type": "markdown",
   "metadata": {},
   "source": [
    "## Generate and Calculate Metrics"
   ]
  },
  {
   "cell_type": "code",
   "execution_count": 74,
   "metadata": {},
   "outputs": [],
   "source": [
    "## Using dilated convolution model, generate new pieces and calculate metrics\n",
    "## Metrics need additional post processing\n",
    "## file_list is list of training pieces\n",
    "## min_note_list is list of shortest note in each of the training pieces, used for metrics\n",
    "## params = (pi, b0, b, A) are learned parameters of model\n",
    "## it is the number of new pieces to generate for the metrics\n",
    "\n",
    "def compose_multiple_sequences(file_list, min_note_list, params, it):\n",
    "    \n",
    "    ## Load in and pre-process training pieces\n",
    "    mat_pieces, quarter_list, key_list, time_list, note_list, transposed, velocity_list, encoded_notes, \\\n",
    "          possibleNotes, time_metrics, song_list, ind_list, \\\n",
    "            num_list, measure_list = multiple_process(file_list, min_note_list)\n",
    "    \n",
    "    ## Total number of pieces\n",
    "    N = mat_pieces.shape[0]\n",
    "    print(N)\n",
    "    ## Calculate metrics on original pieces\n",
    "    orig_metrics = calc_metrics(time_metrics[0], note_list[0], note_list[0], velocity_list[0], \n",
    "                                measure_list[0], min_note_list[0], num_list[0])\n",
    "    metrics_training = np.zeros(shape = (N, len(orig_metrics)))\n",
    "    metrics_training[0,:] = orig_metrics\n",
    "    for i in range(1, N):\n",
    "        metrics_training[i,:] = calc_metrics(time_metrics[i], note_list[i], note_list[i], velocity_list[i], \n",
    "                                                measure_list[i], min_note_list[i], num_list[i])\n",
    "        \n",
    "    ## Save metrics for original training pieces\n",
    "    metrics_filename = 'metrics/multiple_sequences-training-20.csv'\n",
    "    pd.DataFrame(metrics_training).to_csv(metrics_filename, header = None, index = False)\n",
    "    print(metrics_filename)\n",
    "    \n",
    "    ## Extract parameters\n",
    "    pi, b0, b, A = params\n",
    "    \n",
    "    \n",
    "    ## Generate new pieces\n",
    "    ref_ind = np.random.choice(N, it, replace = True) \n",
    "    ## find which original piece to use for timing information for each new piece\n",
    "    \n",
    "    metrics_gen = np.zeros(shape = (it, len(orig_metrics)))\n",
    "    \n",
    "    for i in range(it):\n",
    "        T = len(transposed[ref_ind[i]])\n",
    "        newNotes, z  = generate_dilated(T,pi,b0,b,A)\n",
    "        newNotes = decode(newNotes, possibleNotes)\n",
    "        newVelocities = find_vel(newNotes, velocity_list[ref_ind[i]])\n",
    "        \n",
    "        metrics_gen[i, :] = calc_metrics(time_metrics[ref_ind[i]], transposed[ref_ind[i]], \n",
    "                                         newNotes, newVelocities, measure_list[ref_ind[i]], \n",
    "                                         min_note_list[ref_ind[i]], num_list[ref_ind[i]])\n",
    "        \n",
    "        \n",
    "        if i%10 == 0: # Save piece\n",
    "            song_list[ref_ind[i]].iloc[ind_list[ref_ind[i]], 1] = time_list[ref_ind[i]]\n",
    "            song_list[ref_ind[i]].iloc[ind_list[ref_ind[i]], 4] = newNotes\n",
    "            song_list[ref_ind[i]].iloc[ind_list[ref_ind[i]], 5] = newVelocities\n",
    "            song_list[ref_ind[i]].iloc[ind_list[ref_ind[i]][np.where(newVelocities !=0)], 2] = ' Note_on_c'\n",
    "            song_list[ref_ind[i]].iloc[ind_list[ref_ind[i]][np.where(newVelocities ==0)], 2] = ' Note_off_c'\n",
    "            output_filename = \"NewCSV/multiple20-generated\" + str(i) + '.csv'\n",
    "            song_list[ref_ind[i]].to_csv(output_filename, header = None, index = False)\n",
    "            print(i)\n",
    "        \n",
    "    \n",
    "    \n",
    "    \n",
    "    # Save metrics\n",
    "    metrics_filename = 'metrics/multiple_sequences-generated-20.csv' \n",
    "    pd.DataFrame(metrics_gen).to_csv(metrics_filename, header = None, index = False)\n",
    "    print(metrics_filename)\n",
    "    \n",
    "    \n",
    "    \n",
    "    \n",
    "    "
   ]
  },
  {
   "cell_type": "code",
   "execution_count": 41,
   "metadata": {},
   "outputs": [
    {
     "data": {
      "text/plain": [
       "array([79, 97, 10, 86, 48, 54, 82,  7, 88,  9])"
      ]
     },
     "execution_count": 41,
     "metadata": {},
     "output_type": "execute_result"
    }
   ],
   "source": [
    "np.random.choice(100,10, replace = True)"
   ]
  },
  {
   "cell_type": "code",
   "execution_count": null,
   "metadata": {},
   "outputs": [],
   "source": []
  },
  {
   "cell_type": "code",
   "execution_count": 44,
   "metadata": {},
   "outputs": [],
   "source": [
    "A = np.load('5hiddenstates-parameters/A.npy')\n",
    "b = np.load('5hiddenstates-parameters/b.npy')\n",
    "b0 = np.load('5hiddenstates-parameters/b0.npy')\n",
    "pi = np.load('5hiddenstates-parameters/pi.npy')\n",
    "params = [pi, b0, b, A]"
   ]
  },
  {
   "cell_type": "code",
   "execution_count": 75,
   "metadata": {},
   "outputs": [
    {
     "name": "stdout",
     "output_type": "stream",
     "text": [
      "OriginalCSV/beethoven-symphony9-4-ode-to-joy-piano-solo.csv\n",
      "OriginalCSV/carol-of-the-bells.csv\n",
      "OriginalCSV/deutschlandlied.csv\n",
      "OriginalCSV/god-rest-you-merry-gentlemen.csv\n",
      "OriginalCSV/greensleeves.csv\n",
      "OriginalCSV/hark-the-herald-angels-sing.csv\n",
      "OriginalCSV/Jupiter.csv\n",
      "OriginalCSV/in-the-bleak-midwinter.csv\n",
      "OriginalCSV/muss_1_format0.csv\n",
      "OriginalCSV/old-100th.csv\n",
      "OriginalCSV/once-in-royal.csv\n",
      "OriginalCSV/pachelbel.csv\n",
      "OriginalCSV/shall-we-gather-at-the-river.csv\n",
      "OriginalCSV/Songwithoutwords06.csv\n",
      "OriginalCSV/swing-low-sweet-chariot.csv\n",
      "OriginalCSV/the-blue-danube-piano.csv\n",
      "OriginalCSV/Third-Mode-Melody.csv\n",
      "OriginalCSV/twinkle-twinkle-little-star.csv\n",
      "OriginalCSV/we-three-kings-keyboard.csv\n",
      "OriginalCSV/when-johnny-comes-marching-home.csv\n",
      "20\n",
      "metrics/multiple_sequences-training-20.csv\n",
      "0\n",
      "10\n",
      "20\n",
      "30\n",
      "40\n",
      "50\n",
      "60\n",
      "70\n",
      "80\n",
      "90\n",
      "100\n",
      "110\n",
      "120\n",
      "130\n",
      "140\n",
      "150\n",
      "160\n",
      "170\n",
      "180\n",
      "190\n",
      "200\n",
      "210\n",
      "220\n",
      "230\n",
      "240\n",
      "250\n",
      "260\n",
      "270\n",
      "280\n",
      "290\n",
      "300\n",
      "310\n",
      "320\n",
      "330\n",
      "340\n",
      "350\n",
      "360\n",
      "370\n",
      "380\n",
      "390\n",
      "400\n",
      "410\n",
      "420\n",
      "430\n",
      "440\n",
      "450\n",
      "460\n",
      "470\n",
      "480\n",
      "490\n",
      "500\n",
      "510\n",
      "520\n",
      "530\n",
      "540\n",
      "550\n",
      "560\n",
      "570\n",
      "580\n",
      "590\n",
      "600\n",
      "610\n",
      "620\n",
      "630\n",
      "640\n",
      "650\n",
      "660\n",
      "670\n",
      "680\n",
      "690\n",
      "700\n",
      "710\n",
      "720\n",
      "730\n",
      "740\n",
      "750\n",
      "760\n",
      "770\n",
      "780\n",
      "790\n",
      "800\n",
      "810\n",
      "820\n",
      "830\n",
      "840\n",
      "850\n",
      "860\n",
      "870\n",
      "880\n",
      "890\n",
      "900\n",
      "910\n",
      "920\n",
      "930\n",
      "940\n",
      "950\n",
      "960\n",
      "970\n",
      "980\n",
      "990\n",
      "metrics/multiple_sequences-generated-20.csv\n"
     ]
    }
   ],
   "source": [
    "it = 1000\n",
    "compose_multiple_sequences(file_list, min_note_list, params, it)"
   ]
  },
  {
   "cell_type": "markdown",
   "metadata": {},
   "source": [
    "## Calculate Metrics"
   ]
  },
  {
   "cell_type": "code",
   "execution_count": null,
   "metadata": {},
   "outputs": [],
   "source": [
    "## Function to process metrics and calculate RMSE\n",
    "## Input: filename = filename where metrics values for piece of interested is saved\n",
    "## Output:\n",
    "##        metrics = original metrics as a dataframe, no computation\n",
    "##        rmse = RMSE value for every column of metrics, pandas dataframe\n",
    "##        hints = counts of harmonic intervals\n",
    "##        mints = counts of melodic intervals\n",
    "##        perc = array of percentage of perfect harmonic intervals, percentage of imperfect consonant harmonic intervals\n",
    "##               percentage of dissonant harmonic intervals, percentage of perfect melodic intervals, \n",
    "##               percentage of imperfect consonant melodic intervals, percentage of dissonant melodic intervals\n",
    "##        acf = acf values out to lag-40\n",
    "##        pacf = pacf values out to lag-40\n",
    "##        print_metrics = pandas dataframe formatted to display the average empirical entropy of all generated pieces,\n",
    "##               the mutual information and edit distance between the original and generated pieces, averaged across all\n",
    "##               generated pieces, the RMSE for hints averaged across all 12 intervals, the RMSE for mints averaged\n",
    "##               across all 12 intervals, the average RMSE of per, the average RMSE of the note counts averaged across\n",
    "##               all unique notes in the original piece, the average ACF RMSE averaged across all 40 lags and the average\n",
    "##               PACF averaged across all 40 lags\n",
    "\n",
    "def process_metrics(filename):\n",
    "    metrics = pd.read_csv(filename, header = None)\n",
    "    print_metrics = pd.DataFrame(columns = ['entropy', 'mutual_info', 'edit', 'h_ints', 'm_ints',\n",
    "                                           'percent', 'acf', 'pacf'])\n",
    "    \n",
    "    hints = metrics.loc[:, 3:14]\n",
    "    mints = metrics.loc[:, 15:26]\n",
    "    perc = metrics.loc[:, 27:32]\n",
    "    acf = metrics.loc[:, 33:74]\n",
    "    pacf = metrics.loc[:, 74:]\n",
    "    print_metrics.loc[0] = [np.mean(rmse[0]), np.mean(metrics.iloc[1:, 1]), np.mean(metrics.iloc[1:, 2]), \n",
    "                            np.mean(rmse[3:14]), np.mean(rmse[15:26]),\n",
    "                              np.mean(rmse[27:32]), \n",
    "                              np.mean(rmse[metrics.shape[1]-2*41:metrics.shape[1]-41]), \n",
    "                            np.mean(rmse[metrics.shape[1]-41:])]\n",
    "\n",
    "    print(metrics.shape)\n",
    "    return(metrics, rmse, hints, mints, perc, note_count, acf, pacf, print_metrics)"
   ]
  },
  {
   "cell_type": "code",
   "execution_count": 87,
   "metadata": {},
   "outputs": [],
   "source": [
    "metrics = pd.read_csv(\"metrics/multiple_sequences-generated-20.csv\", header = None)\n",
    "orig = pd.read_csv(\"metrics/multiple_sequences-training-20.csv\", header = None)"
   ]
  },
  {
   "cell_type": "code",
   "execution_count": 88,
   "metadata": {},
   "outputs": [
    {
     "data": {
      "text/html": [
       "<div>\n",
       "<style scoped>\n",
       "    .dataframe tbody tr th:only-of-type {\n",
       "        vertical-align: middle;\n",
       "    }\n",
       "\n",
       "    .dataframe tbody tr th {\n",
       "        vertical-align: top;\n",
       "    }\n",
       "\n",
       "    .dataframe thead th {\n",
       "        text-align: right;\n",
       "    }\n",
       "</style>\n",
       "<table border=\"1\" class=\"dataframe\">\n",
       "  <thead>\n",
       "    <tr style=\"text-align: right;\">\n",
       "      <th></th>\n",
       "      <th>0</th>\n",
       "      <th>1</th>\n",
       "      <th>2</th>\n",
       "      <th>3</th>\n",
       "      <th>4</th>\n",
       "      <th>5</th>\n",
       "      <th>6</th>\n",
       "      <th>7</th>\n",
       "      <th>8</th>\n",
       "      <th>9</th>\n",
       "      <th>...</th>\n",
       "      <th>105</th>\n",
       "      <th>106</th>\n",
       "      <th>107</th>\n",
       "      <th>108</th>\n",
       "      <th>109</th>\n",
       "      <th>110</th>\n",
       "      <th>111</th>\n",
       "      <th>112</th>\n",
       "      <th>113</th>\n",
       "      <th>114</th>\n",
       "    </tr>\n",
       "  </thead>\n",
       "  <tbody>\n",
       "    <tr>\n",
       "      <th>0</th>\n",
       "      <td>2.326568</td>\n",
       "      <td>2.326568</td>\n",
       "      <td>0.0</td>\n",
       "      <td>22.0</td>\n",
       "      <td>18.0</td>\n",
       "      <td>33.0</td>\n",
       "      <td>28.0</td>\n",
       "      <td>45.0</td>\n",
       "      <td>35.0</td>\n",
       "      <td>0.0</td>\n",
       "      <td>...</td>\n",
       "      <td>0.059312</td>\n",
       "      <td>-0.091651</td>\n",
       "      <td>-0.026681</td>\n",
       "      <td>-0.114411</td>\n",
       "      <td>-0.033445</td>\n",
       "      <td>0.082499</td>\n",
       "      <td>0.054129</td>\n",
       "      <td>-0.024098</td>\n",
       "      <td>-0.022388</td>\n",
       "      <td>-0.043755</td>\n",
       "    </tr>\n",
       "    <tr>\n",
       "      <th>1</th>\n",
       "      <td>2.624359</td>\n",
       "      <td>2.624359</td>\n",
       "      <td>0.0</td>\n",
       "      <td>24.0</td>\n",
       "      <td>48.0</td>\n",
       "      <td>60.0</td>\n",
       "      <td>135.0</td>\n",
       "      <td>87.0</td>\n",
       "      <td>74.0</td>\n",
       "      <td>4.0</td>\n",
       "      <td>...</td>\n",
       "      <td>0.212060</td>\n",
       "      <td>0.042249</td>\n",
       "      <td>-0.104882</td>\n",
       "      <td>0.025744</td>\n",
       "      <td>-0.145910</td>\n",
       "      <td>-0.049534</td>\n",
       "      <td>0.031958</td>\n",
       "      <td>-0.031669</td>\n",
       "      <td>0.174563</td>\n",
       "      <td>0.205857</td>\n",
       "    </tr>\n",
       "    <tr>\n",
       "      <th>2</th>\n",
       "      <td>2.769777</td>\n",
       "      <td>2.769777</td>\n",
       "      <td>0.0</td>\n",
       "      <td>21.0</td>\n",
       "      <td>50.0</td>\n",
       "      <td>62.0</td>\n",
       "      <td>34.0</td>\n",
       "      <td>77.0</td>\n",
       "      <td>44.0</td>\n",
       "      <td>17.0</td>\n",
       "      <td>...</td>\n",
       "      <td>0.074045</td>\n",
       "      <td>0.130520</td>\n",
       "      <td>-0.010067</td>\n",
       "      <td>0.023767</td>\n",
       "      <td>-0.034972</td>\n",
       "      <td>-0.062631</td>\n",
       "      <td>-0.028421</td>\n",
       "      <td>0.040603</td>\n",
       "      <td>-0.053370</td>\n",
       "      <td>-0.087874</td>\n",
       "    </tr>\n",
       "    <tr>\n",
       "      <th>3</th>\n",
       "      <td>2.922709</td>\n",
       "      <td>2.922709</td>\n",
       "      <td>0.0</td>\n",
       "      <td>27.0</td>\n",
       "      <td>40.0</td>\n",
       "      <td>53.0</td>\n",
       "      <td>65.0</td>\n",
       "      <td>61.0</td>\n",
       "      <td>58.0</td>\n",
       "      <td>12.0</td>\n",
       "      <td>...</td>\n",
       "      <td>0.027414</td>\n",
       "      <td>-0.077690</td>\n",
       "      <td>-0.058962</td>\n",
       "      <td>0.068878</td>\n",
       "      <td>0.057851</td>\n",
       "      <td>0.016979</td>\n",
       "      <td>-0.036425</td>\n",
       "      <td>-0.162000</td>\n",
       "      <td>-0.101343</td>\n",
       "      <td>-0.039584</td>\n",
       "    </tr>\n",
       "    <tr>\n",
       "      <th>4</th>\n",
       "      <td>2.685828</td>\n",
       "      <td>2.685828</td>\n",
       "      <td>0.0</td>\n",
       "      <td>15.0</td>\n",
       "      <td>7.0</td>\n",
       "      <td>13.0</td>\n",
       "      <td>9.0</td>\n",
       "      <td>4.0</td>\n",
       "      <td>44.0</td>\n",
       "      <td>0.0</td>\n",
       "      <td>...</td>\n",
       "      <td>-0.104208</td>\n",
       "      <td>-0.012466</td>\n",
       "      <td>-0.077359</td>\n",
       "      <td>0.001791</td>\n",
       "      <td>-0.110482</td>\n",
       "      <td>-0.069117</td>\n",
       "      <td>-0.102576</td>\n",
       "      <td>-0.029635</td>\n",
       "      <td>-0.052728</td>\n",
       "      <td>-0.009758</td>\n",
       "    </tr>\n",
       "  </tbody>\n",
       "</table>\n",
       "<p>5 rows × 115 columns</p>\n",
       "</div>"
      ],
      "text/plain": [
       "        0         1    2     3     4     5      6     7     8     9    ...  \\\n",
       "0  2.326568  2.326568  0.0  22.0  18.0  33.0   28.0  45.0  35.0   0.0  ...   \n",
       "1  2.624359  2.624359  0.0  24.0  48.0  60.0  135.0  87.0  74.0   4.0  ...   \n",
       "2  2.769777  2.769777  0.0  21.0  50.0  62.0   34.0  77.0  44.0  17.0  ...   \n",
       "3  2.922709  2.922709  0.0  27.0  40.0  53.0   65.0  61.0  58.0  12.0  ...   \n",
       "4  2.685828  2.685828  0.0  15.0   7.0  13.0    9.0   4.0  44.0   0.0  ...   \n",
       "\n",
       "        105       106       107       108       109       110       111  \\\n",
       "0  0.059312 -0.091651 -0.026681 -0.114411 -0.033445  0.082499  0.054129   \n",
       "1  0.212060  0.042249 -0.104882  0.025744 -0.145910 -0.049534  0.031958   \n",
       "2  0.074045  0.130520 -0.010067  0.023767 -0.034972 -0.062631 -0.028421   \n",
       "3  0.027414 -0.077690 -0.058962  0.068878  0.057851  0.016979 -0.036425   \n",
       "4 -0.104208 -0.012466 -0.077359  0.001791 -0.110482 -0.069117 -0.102576   \n",
       "\n",
       "        112       113       114  \n",
       "0 -0.024098 -0.022388 -0.043755  \n",
       "1 -0.031669  0.174563  0.205857  \n",
       "2  0.040603 -0.053370 -0.087874  \n",
       "3 -0.162000 -0.101343 -0.039584  \n",
       "4 -0.029635 -0.052728 -0.009758  \n",
       "\n",
       "[5 rows x 115 columns]"
      ]
     },
     "execution_count": 88,
     "metadata": {},
     "output_type": "execute_result"
    }
   ],
   "source": [
    "orig.head()"
   ]
  },
  {
   "cell_type": "markdown",
   "metadata": {},
   "source": [
    "## Mutual Information and Edit Distance = Average"
   ]
  },
  {
   "cell_type": "code",
   "execution_count": 96,
   "metadata": {},
   "outputs": [
    {
     "data": {
      "image/png": "[encoded data removed]",
      "text/plain": [
       "<Figure size 1152x576 with 2 Axes>"
      ]
     },
     "metadata": {
      "needs_background": "light"
     },
     "output_type": "display_data"
    }
   ],
   "source": [
    "plt.figure(figsize = (16,8))\n",
    "plt.subplot(1,2,1)\n",
    "plt.hist(metrics.iloc[:, 1])\n",
    "plt.title(\"Mutual Information\")\n",
    "plt.subplot(1,2,2)\n",
    "plt.hist(metrics.iloc[:, 2], color = \"C1\")\n",
    "plt.title(\"Edit Distance\")\n",
    "pass"
   ]
  },
  {
   "cell_type": "code",
   "execution_count": 99,
   "metadata": {},
   "outputs": [
    {
     "data": {
      "text/plain": [
       "Mutual Information    0.519446\n",
       "Edit Distance         0.923595\n",
       "dtype: float64"
      ]
     },
     "execution_count": 99,
     "metadata": {},
     "output_type": "execute_result"
    }
   ],
   "source": [
    "info_results = metrics.iloc[:, [1,2]].mean(axis = 0)\n",
    "info_results.index = ['Mutual Information', \"Edit Distance\"]\n",
    "info_results"
   ]
  },
  {
   "cell_type": "markdown",
   "metadata": {},
   "source": [
    "## KL- Divergence\n",
    "\n",
    "Calculate KL-Divergence between distribution of metrics on original pieces and on all generated pieces"
   ]
  },
  {
   "cell_type": "code",
   "execution_count": 100,
   "metadata": {},
   "outputs": [
    {
     "data": {
      "image/png": "[encoded data removed]",
      "text/plain": [
       "<Figure size 1152x576 with 2 Axes>"
      ]
     },
     "metadata": {
      "needs_background": "light"
     },
     "output_type": "display_data"
    }
   ],
   "source": [
    "plt.figure(figsize = (16,8))\n",
    "plt.subplot(1,2,1)\n",
    "plt.hist(orig.iloc[:, 0])\n",
    "plt.title(\"Entropy - Training\")\n",
    "plt.subplot(1,2,2)\n",
    "plt.hist(metrics.iloc[:, 0], color = \"C1\")\n",
    "plt.title(\"Entropy - Generated\")\n",
    "pass"
   ]
  },
  {
   "cell_type": "code",
   "execution_count": 155,
   "metadata": {},
   "outputs": [],
   "source": [
    "## Calculate KL divergence between original training pieces metrics and generated pieces metrics\n",
    "## One metric at a time\n",
    "## num_bins is number of bins to have in histogram for distribution comparison\n",
    "def KL_divergence(orig, generated, num_bins):\n",
    "    h = np.max([np.max(orig), np.max(generated)])\n",
    "    l = np.min([np.min(orig), np.min(generated)])\n",
    "    h = np.ceil(h)\n",
    "    l = np.floor(l)\n",
    "    ## Need to create a histogram so can compare distributions\n",
    "    counts_orig, bins_orig = np.histogram(orig, bins = np.arange(l, h, step = (h-l)/num_bins))\n",
    "    counts_gen, bins_ogen = np.histogram(generated, bins = np.arange(l, h, step = (h-l)/num_bins))\n",
    "    \n",
    "    counts_orig = counts_orig.astype(\"float32\")\n",
    "    counts_gen = counts_gen.astype(\"float32\")\n",
    "    ## Can't have 0s in KL divergence\n",
    "    if np.any(counts_orig == 0):\n",
    "        inds = np.where(counts_orig == 0)[0]\n",
    "        counts_orig[inds] = 0.001\n",
    "    \n",
    "    if np.any(counts_gen == 0):\n",
    "        inds = np.where(counts_gen == 0)[0]\n",
    "        counts_gen[inds] = 0.001\n",
    "    \n",
    "    \n",
    "    ## Calculate KL divergence\n",
    "    KL = scipy.stats.entropy(counts_orig, counts_gen)\n",
    "    return(KL)"
   ]
  },
  {
   "cell_type": "code",
   "execution_count": 162,
   "metadata": {},
   "outputs": [
    {
     "data": {
      "text/plain": [
       "10.562748"
      ]
     },
     "execution_count": 162,
     "metadata": {},
     "output_type": "execute_result"
    }
   ],
   "source": [
    "KL_divergence(orig.iloc[:, 0], metrics.iloc[:, 0], 100)"
   ]
  },
  {
   "cell_type": "markdown",
   "metadata": {},
   "source": [
    "### Calculate for all Metrics"
   ]
  },
  {
   "cell_type": "code",
   "execution_count": 167,
   "metadata": {},
   "outputs": [],
   "source": [
    "KLresults = np.zeros(metrics.shape[1])\n",
    "KLresults[0] = KL_divergence(orig.iloc[:, 0], metrics.iloc[:, 0], 100)\n",
    "for i in range(3,len(KLresults)):\n",
    "    if i == 33 or i == 74:\n",
    "        KLresults[i] = 0 ## ACF/PACF for lag 0 = 1\n",
    "    else:\n",
    "        KLresults[i] = KL_divergence(orig.iloc[:, i], metrics.iloc[:, i], 100)"
   ]
  },
  {
   "cell_type": "code",
   "execution_count": 168,
   "metadata": {},
   "outputs": [
    {
     "data": {
      "text/plain": [
       "array([10.56274796,  0.        ,  0.        ,  8.36385822,  9.86000156,\n",
       "        8.96041298,  3.83101892,  1.84508193,  1.45922387,  3.34667516,\n",
       "        3.47485352,  1.36490273,  2.34872389,  1.04794681,  0.25828031,\n",
       "        0.55113596,  9.74570274,  9.19694042,  6.04021645,  5.95444107,\n",
       "        7.90941   , 10.86975193,  4.52291059,  7.17129755,  7.03574467,\n",
       "       10.75962734, 10.20835686, 10.33648205,  5.24739933, 11.21568298,\n",
       "       11.25089836,  9.72032928, 11.31919098,  0.        ,  9.40925026,\n",
       "        6.33386993,  5.41775084,  6.8662796 ,  7.02396059,  6.56075096,\n",
       "        5.04145718,  7.79522705,  6.14599657,  6.76411438,  4.29601097,\n",
       "        8.35239792,  5.37106562,  6.55517673,  3.28071237,  5.40487576,\n",
       "        5.8260498 ,  5.01702213,  3.33756232,  5.916924  ,  5.07103443,\n",
       "        4.93246222,  4.31838131,  7.84300327,  3.50213242,  6.19839764,\n",
       "        4.62507582,  5.11174154,  4.11107063,  5.43345165,  3.09003663,\n",
       "        6.70346928,  2.21203351,  2.27312756,  3.32093287,  4.69945192,\n",
       "        3.35659194,  5.68148279,  3.19868922,  5.17637825,  0.        ,\n",
       "        9.40743923,  6.6801033 ,  6.80884552,  7.53083611,  6.5848732 ,\n",
       "        4.13388634,  3.97000718,  7.09019947,  2.05193043,  4.26644373,\n",
       "        0.90744185,  3.22366428,  1.60434794,  0.93895531,  2.23738956,\n",
       "        1.04826283,  1.51955318,  1.42029524,  1.08830619,  1.13145781,\n",
       "        2.07607985,  1.64754641,  1.07672989,  1.3491416 ,  0.78448707,\n",
       "        0.7031154 ,  1.78339982,  1.02562296,  1.89408278,  1.52886093,\n",
       "        1.94782376,  1.34982347,  0.70192611,  0.85195267,  1.38090241,\n",
       "        1.6359967 ,  0.70632368,  1.69409621,  1.80184686,  1.89383435])"
      ]
     },
     "execution_count": 168,
     "metadata": {},
     "output_type": "execute_result"
    }
   ],
   "source": [
    "KLresults"
   ]
  },
  {
   "cell_type": "code",
   "execution_count": 170,
   "metadata": {},
   "outputs": [],
   "source": [
    "## Average over relevant metrics\n",
    "ent = KLresults[0]\n",
    "hints = np.mean(KLresults[3:14])\n",
    "mints = np.mean(KLresults[15:26])\n",
    "perc = np.mean(KLresults[27:32])\n",
    "acf = np.mean(KLresults[33:74])\n",
    "pacf = np.mean(KLresults[74:])"
   ]
  },
  {
   "cell_type": "code",
   "execution_count": 171,
   "metadata": {},
   "outputs": [
    {
     "data": {
      "text/html": [
       "<div>\n",
       "<style scoped>\n",
       "    .dataframe tbody tr th:only-of-type {\n",
       "        vertical-align: middle;\n",
       "    }\n",
       "\n",
       "    .dataframe tbody tr th {\n",
       "        vertical-align: top;\n",
       "    }\n",
       "\n",
       "    .dataframe thead th {\n",
       "        text-align: right;\n",
       "    }\n",
       "</style>\n",
       "<table border=\"1\" class=\"dataframe\">\n",
       "  <thead>\n",
       "    <tr style=\"text-align: right;\">\n",
       "      <th></th>\n",
       "      <th>entropy</th>\n",
       "      <th>h_ints</th>\n",
       "      <th>m_ints</th>\n",
       "      <th>percent</th>\n",
       "      <th>acf</th>\n",
       "      <th>pacf</th>\n",
       "    </tr>\n",
       "  </thead>\n",
       "  <tbody>\n",
       "    <tr>\n",
       "      <th>0</th>\n",
       "      <td>10.562748</td>\n",
       "      <td>4.172973</td>\n",
       "      <td>7.250653</td>\n",
       "      <td>9.554158</td>\n",
       "      <td>5.160376</td>\n",
       "      <td>2.475069</td>\n",
       "    </tr>\n",
       "  </tbody>\n",
       "</table>\n",
       "</div>"
      ],
      "text/plain": [
       "     entropy    h_ints    m_ints   percent       acf      pacf\n",
       "0  10.562748  4.172973  7.250653  9.554158  5.160376  2.475069"
      ]
     },
     "execution_count": 171,
     "metadata": {},
     "output_type": "execute_result"
    }
   ],
   "source": [
    "results_tab = pd.DataFrame(columns = ['entropy', 'h_ints', 'm_ints',\n",
    "                                           'percent', 'acf', 'pacf'])\n",
    "\n",
    "results_tab.loc[0] = [ent, hints, mints, perc, acf, pacf]\n",
    "results_tab"
   ]
  },
  {
   "cell_type": "markdown",
   "metadata": {},
   "source": [
    "## Histograms"
   ]
  },
  {
   "cell_type": "code",
   "execution_count": 180,
   "metadata": {},
   "outputs": [],
   "source": [
    "plt.style.use('seaborn')"
   ]
  },
  {
   "cell_type": "code",
   "execution_count": 186,
   "metadata": {},
   "outputs": [
    {
     "data": {
      "image/png": "[encoded data removed]",
      "text/plain": [
       "<Figure size 1152x576 with 2 Axes>"
      ]
     },
     "metadata": {},
     "output_type": "display_data"
    }
   ],
   "source": [
    "plt.figure(figsize = (16,8))\n",
    "plt.rcParams.update({'font.size': 22})\n",
    "plt.subplot(1,2,1)\n",
    "plt.hist(orig.iloc[:, 0])\n",
    "plt.suptitle(\"Entropy\", fontsize=20)\n",
    "plt.title(\"Training\", fontsize=16)\n",
    "plt.subplot(1,2,2)\n",
    "plt.hist(metrics.iloc[:, 0], color = \"C1\")\n",
    "plt.title(\"Generated\", fontsize = 16)\n",
    "pass"
   ]
  },
  {
   "cell_type": "code",
   "execution_count": 187,
   "metadata": {},
   "outputs": [
    {
     "data": {
      "image/png": "[encoded data removed]",
      "text/plain": [
       "<Figure size 1152x576 with 2 Axes>"
      ]
     },
     "metadata": {},
     "output_type": "display_data"
    }
   ],
   "source": [
    "plt.figure(figsize = (16,8))\n",
    "plt.rcParams.update({'font.size': 22})\n",
    "plt.subplot(1,2,1)\n",
    "plt.hist(orig.iloc[:, 3])\n",
    "plt.suptitle(\"Hints - 1\", fontsize=20)\n",
    "plt.title(\"Training\", fontsize=16)\n",
    "plt.subplot(1,2,2)\n",
    "plt.hist(metrics.iloc[:, 3], color = \"C1\")\n",
    "plt.title(\"Generated\", fontsize = 16)\n",
    "pass"
   ]
  },
  {
   "cell_type": "code",
   "execution_count": null,
   "metadata": {},
   "outputs": [],
   "source": []
  }
 ],
 "metadata": {
  "kernelspec": {
   "display_name": "Python 3",
   "language": "python",
   "name": "python3"
  },
  "language_info": {
   "codemirror_mode": {
    "name": "ipython",
    "version": 3
   },
   "file_extension": ".py",
   "mimetype": "text/x-python",
   "name": "python",
   "nbconvert_exporter": "python",
   "pygments_lexer": "ipython3",
   "version": "3.7.3"
  }
 },
 "nbformat": 4,
 "nbformat_minor": 2
}
